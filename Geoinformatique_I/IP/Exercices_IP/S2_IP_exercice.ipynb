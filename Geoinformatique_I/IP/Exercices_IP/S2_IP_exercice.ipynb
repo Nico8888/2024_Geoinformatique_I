{
  "cells": [
    {
      "cell_type": "markdown",
      "metadata": {
        "id": "view-in-github",
        "colab_type": "text"
      },
      "source": [
        "<a href=\"https://colab.research.google.com/github/Nico8888/2024_Geoinformatique_I/blob/main/Geoinformatique_I/IP/Exercices_IP/S2_IP_exercice.ipynb\" target=\"_parent\"><img src=\"https://colab.research.google.com/assets/colab-badge.svg\" alt=\"Open In Colab\"/></a>"
      ]
    },
    {
      "cell_type": "markdown",
      "metadata": {
        "id": "ZXnjONpwCaJ5"
      },
      "source": [
        "# Exercice 2 - Structure de contrôle"
      ]
    },
    {
      "cell_type": "markdown",
      "metadata": {
        "id": "OyMIBjQrCaJ6"
      },
      "source": [
        "## Conditions if, else, elif"
      ]
    },
    {
      "cell_type": "code",
      "source": [
        "x = 200\n",
        "x = 100\n",
        "\n",
        "if x < 100 :\n",
        "    print(\"en dessous de 100\")\n",
        "elif x > 100:\n",
        "    print(\"en dessus de 100\")\n",
        "else :\n",
        "    print(\"le nombre x est 100\")"
      ],
      "metadata": {
        "id": "zwItC8oJBp3Q",
        "outputId": "f8ed1449-137a-4f1c-d6c0-bc295f07caca",
        "colab": {
          "base_uri": "https://localhost:8080/"
        }
      },
      "execution_count": 5,
      "outputs": [
        {
          "output_type": "stream",
          "name": "stdout",
          "text": [
            "le nombre x est 100\n"
          ]
        }
      ]
    },
    {
      "cell_type": "markdown",
      "metadata": {
        "id": "caKuJ59zjW39"
      },
      "source": [
        "**1. Vérification de la parité**"
      ]
    },
    {
      "cell_type": "code",
      "source": [
        "x = 999\n",
        "if x % 2 == 0 :\n",
        "    print(\"pair\")\n",
        "else :\n",
        "    print(\"impaire\")\n",
        "x = 0\n"
      ],
      "metadata": {
        "id": "lgsABn2wA_lJ",
        "outputId": "d7532f5f-aba5-41e8-9e92-ce1c45af3aab",
        "colab": {
          "base_uri": "https://localhost:8080/"
        }
      },
      "execution_count": 3,
      "outputs": [
        {
          "output_type": "stream",
          "name": "stdout",
          "text": [
            "impaire\n"
          ]
        }
      ]
    },
    {
      "cell_type": "code",
      "execution_count": 9,
      "metadata": {
        "id": "wkrwV1yvjW3-",
        "colab": {
          "base_uri": "https://localhost:8080/"
        },
        "outputId": "d12cd74a-fc56-4b7f-e0ef-a87ee1456a39"
      },
      "outputs": [
        {
          "output_type": "stream",
          "name": "stdout",
          "text": [
            "pair\n",
            "Pair\n"
          ]
        }
      ],
      "source": [
        "x = 200\n",
        "if x % 2 == 0 :\n",
        "    print(\"pair\")\n",
        "if x % 2 == 1 :\n",
        "     print(\"impair\")\n",
        "\n",
        "\n",
        "nombre = 4 #Entrez un nombre entier\n",
        "\n",
        "if nombre % 2 == 0 :\n",
        "    print(\"Pair\")\n",
        "else:\n",
        "    print(\"Impaire\")"
      ]
    },
    {
      "cell_type": "markdown",
      "metadata": {
        "id": "b1goU-5bjW3_"
      },
      "source": [
        "**2. Comparaison de deux nombres**"
      ]
    },
    {
      "cell_type": "code",
      "source": [
        "x1 = 100\n",
        "x2 = 101\n",
        "if x1 > x2 :\n",
        "    print(\"x1 est plus grand que x2\")\n",
        "elif x2 > x1 :\n",
        "    print(\"x2 est plus grand que x1\")\n",
        "else :\n",
        "    print(\"x1 et x2 sont égaux\")"
      ],
      "metadata": {
        "id": "fD2Ihas_CcBZ",
        "outputId": "948579d1-d491-451c-e81f-ff1797e9bd54",
        "colab": {
          "base_uri": "https://localhost:8080/"
        }
      },
      "execution_count": 9,
      "outputs": [
        {
          "output_type": "stream",
          "name": "stdout",
          "text": [
            "x2 est plus grand que x1\n"
          ]
        }
      ]
    },
    {
      "cell_type": "code",
      "source": [],
      "metadata": {
        "id": "6VM4mgtSDInM"
      },
      "execution_count": null,
      "outputs": []
    },
    {
      "cell_type": "code",
      "source": [
        "x1 = 2\n",
        "x2 = 3\n",
        "\n",
        "if x1 > x2 :\n",
        "     print(\"x1 est plus grand que x2\")\n",
        "if x2 < x1 :\n",
        "    print(\"x2 est le nombre le plus grand\")\n",
        "if x1 == x2 :\n",
        "    print(\"x1 et x2 sont égaux\")"
      ],
      "metadata": {
        "id": "hFJOkZwBGybn"
      },
      "execution_count": 12,
      "outputs": []
    },
    {
      "cell_type": "code",
      "source": [
        "nombre1= 11.2\n",
        "nombre2 = 11.3\n",
        "if nombre1 > nombre2:\n",
        "    print(\"le nombre 1 est plus grand que le nombre 2\")\n",
        "elif nombre2 > nombre1 :\n",
        "    print(\"le nomber 2 est plus grand que le nombre1\")\n",
        "else :\n",
        "    print(\"les deux nombres sont égaux\")"
      ],
      "metadata": {
        "id": "Cu04yKLPDRHr",
        "outputId": "bb2b31d4-f803-4956-cc4a-eecff394541c",
        "colab": {
          "base_uri": "https://localhost:8080/"
        }
      },
      "execution_count": 13,
      "outputs": [
        {
          "output_type": "stream",
          "name": "stdout",
          "text": [
            "le nomber 2 est plus grand que le nombre1\n"
          ]
        }
      ]
    },
    {
      "cell_type": "code",
      "execution_count": 10,
      "metadata": {
        "id": "SkjaBcb-jW3_",
        "colab": {
          "base_uri": "https://localhost:8080/"
        },
        "outputId": "94f2c20e-ea35-4bb1-bc3b-3100e8ceecf5"
      },
      "outputs": [
        {
          "output_type": "stream",
          "name": "stdout",
          "text": [
            "Le deuxième nombre est plus grand.\n"
          ]
        }
      ],
      "source": [
        "nombre1 = 10.5 #Entrez un chiffre à virgule\n",
        "nombre2 = 11.5 #Entrez un deuxième chiffre à virgule\n",
        "\n",
        "if nombre1 > nombre2:\n",
        "    print(\"Le premier nombre est plus grand.\")\n",
        "elif nombre2 > nombre1:\n",
        "    print(\"Le deuxième nombre est plus grand.\")\n",
        "else:\n",
        "    print(\"Les deux nombres sont égaux\")"
      ]
    },
    {
      "cell_type": "markdown",
      "metadata": {
        "id": "gkNLNNSNjW3_"
      },
      "source": [
        "**3. Catégorisation d'âges**"
      ]
    },
    {
      "cell_type": "code",
      "source": [
        "age = 18\n",
        "if age < 10 :\n",
        "    print(\"la personne a moins de 10 ans et est donc un enfant\")\n",
        "elif 10 <= age < 18 :\n",
        "    print(\"la personnes à entre 10 et 18 ans et est donc un adolescent\")\n",
        "elif 18 <= age < 60 :\n",
        "    print(\"la personne a entre 18 et 60 ans et est donc un adulte\")\n",
        "elif 60 <= age < 90 :\n",
        "    print(\"la personne a entre 60 et 90 ans et est donc un senior\")\n",
        "else :\n",
        "    print(\"la personne a plus de 90 ans et est donc un ultra senior\")\n"
      ],
      "metadata": {
        "colab": {
          "base_uri": "https://localhost:8080/"
        },
        "id": "fNihsACWGwxz",
        "outputId": "9dd0bf57-be1e-4f93-f356-afd8793dbfbf"
      },
      "execution_count": 20,
      "outputs": [
        {
          "output_type": "stream",
          "name": "stdout",
          "text": [
            "la personne a entre 18 et 60 ans et est donc un adulte\n"
          ]
        }
      ]
    },
    {
      "cell_type": "code",
      "execution_count": 4,
      "metadata": {
        "id": "h1AnFjiKjW4A",
        "colab": {
          "base_uri": "https://localhost:8080/"
        },
        "outputId": "7e29c758-3877-46b8-dec2-d0eb6123fa74"
      },
      "outputs": [
        {
          "output_type": "stream",
          "name": "stdout",
          "text": [
            "Adulte\n"
          ]
        }
      ],
      "source": [
        "from typing_extensions import AsyncContextManager\n",
        "age = 22 # Entrez un nombre entier\n",
        "if age < 12:\n",
        "    print(\"Enfant\")\n",
        "elif 12 <= age < 18:\n",
        "    print(\"Adolescent\")\n",
        "elif 18 <= age < 65:\n",
        "    print(\"Adulte\")\n",
        "else:\n",
        "    print(\"Senior\")\n"
      ]
    },
    {
      "cell_type": "markdown",
      "metadata": {
        "id": "agjI6dl_CaJ7"
      },
      "source": [
        "## Boucle for et while"
      ]
    },
    {
      "cell_type": "markdown",
      "metadata": {
        "id": "jbGswyVvjW4A"
      },
      "source": [
        "**1. Ecrire une boucle `while` pour afficher les valeurs des classements d'une liste de lecture d'albums stockée dans la liste <code>PlayListRatings</code>. Si le score est inférieur à 6, on sort de la boucle. La liste <code>PlayListRatings</code> est donnée par : <code>PlayListRatings = [10, 9.5, 10, 8, 7.5, 5, 10, 10]</code>**"
      ]
    },
    {
      "cell_type": "code",
      "source": [
        "Playlistrating =[10, 9.5, 10, 8, 7.5, 5, 10, 10]\n",
        "indx = 0\n",
        "while indx<len(Playlistrating):\n",
        "    if Playlistrating[indx]<6 :\n",
        "        break\n",
        "    else :\n",
        "        print(Playlistrating[indx])\n",
        "        indx+=1"
      ],
      "metadata": {
        "collapsed": true,
        "id": "zZUCxaoCFbca",
        "outputId": "983bd512-bab4-472a-943a-32704bd31372",
        "colab": {
          "base_uri": "https://localhost:8080/"
        }
      },
      "execution_count": 23,
      "outputs": [
        {
          "output_type": "stream",
          "name": "stdout",
          "text": [
            "10\n",
            "9.5\n",
            "10\n",
            "8\n",
            "7.5\n"
          ]
        }
      ]
    },
    {
      "cell_type": "code",
      "source": [
        "PlayListRating = [10, 9.5, 10, 8, 7.5, 5, 10, 10]\n",
        "indx = 0\n",
        "while indx<len(playlistratings)\n",
        "    if playlistratings<6 :\n",
        "      stop"
      ],
      "metadata": {
        "id": "HyhfkAcWzmiA"
      },
      "execution_count": null,
      "outputs": []
    },
    {
      "cell_type": "code",
      "source": [
        "PlayListRating = [10, 9.5, 10, 8, 7.5, 5, 10, 10]\n",
        "indx = 0\n",
        "while indx<len[10, 9.5, 10, 8, 7.5, 5, 10, 10]\n",
        "if playlistratings < 6:\n",
        "\n"
      ],
      "metadata": {
        "id": "wNMNj_KSH73L"
      },
      "execution_count": null,
      "outputs": []
    },
    {
      "cell_type": "code",
      "source": [
        "salaire = 1500\n",
        "while salaire < 2000 :\n",
        "    salaire += 120\n",
        "    print(\"votre salaire est de\",salaire,\"franc\")"
      ],
      "metadata": {
        "id": "z0wgeIUxRTMb",
        "outputId": "0cadb214-28df-46e5-a49a-cd83d189722c",
        "colab": {
          "base_uri": "https://localhost:8080/"
        }
      },
      "execution_count": 24,
      "outputs": [
        {
          "output_type": "stream",
          "name": "stdout",
          "text": [
            "votre salaire est de 1620 franc\n",
            "votre salaire est de 1740 franc\n",
            "votre salaire est de 1860 franc\n",
            "votre salaire est de 1980 franc\n",
            "votre salaire est de 2100 franc\n"
          ]
        }
      ]
    },
    {
      "cell_type": "code",
      "execution_count": null,
      "metadata": {
        "id": "ploHyFu2jW4A"
      },
      "outputs": [],
      "source": [
        "# Ecrivez votre code ici\n",
        "PlayListRating = [10, 9.5, 10, 8, 7.5, 5, 10, 10]\n",
        "\n",
        "# Astuce : Utilisez l'indexation de la liste comme critère (longueur de votre liste)\n",
        "indx = 0\n",
        "while indx<len(______________):\n",
        "  if ____________[____]<6:\n",
        "    ____\n",
        "  else:\n",
        "    print(_________[____])\n",
        "  ____+=1"
      ]
    },
    {
      "cell_type": "markdown",
      "metadata": {
        "id": "WHXaD4_3jW4A"
      },
      "source": [
        "**2. Répétez ce que vous venez de faire, cette fois en utilisant une boucle `for`**."
      ]
    },
    {
      "cell_type": "code",
      "execution_count": null,
      "metadata": {
        "id": "CIgtC_4zjW4A"
      },
      "outputs": [],
      "source": [
        "for ____ in range(len(______________)):\n",
        "  if _____________[____]<6:\n",
        "    ____\n",
        "  else:\n",
        "    print(_____________[____])"
      ]
    },
    {
      "cell_type": "markdown",
      "metadata": {
        "id": "VZQhdaf5jW4B"
      },
      "source": [
        "**3. Ecrivez une boucle `for` qui imprime (affiche) la liste suivante : <code>carres=['rouge', 'jaune', 'vert', 'violet', 'bleu']</code>**"
      ]
    },
    {
      "cell_type": "code",
      "source": [
        "carrés = [\"rouges\", \"jaune\", \"vert\", \"violet\", \"bleu\"]\n",
        "for carrés in enumerate([carrés]):\n",
        "    print(carrés)\n"
      ],
      "metadata": {
        "id": "fYzrFm8NR7di",
        "outputId": "8372e7a2-6632-4c4a-d9ad-01b2dec72e29",
        "colab": {
          "base_uri": "https://localhost:8080/"
        }
      },
      "execution_count": 30,
      "outputs": [
        {
          "output_type": "stream",
          "name": "stdout",
          "text": [
            "(0, ['rouges', 'jaune', 'vert', 'violet', 'bleu'])\n"
          ]
        }
      ]
    },
    {
      "cell_type": "code",
      "execution_count": null,
      "metadata": {
        "id": "kh8TmInPjW4B"
      },
      "outputs": [],
      "source": [
        "carres = [] # An empty list\n",
        "for ___,___ in enumerate([_____________________]):\n",
        "  carres.append(___) # Here you add (append) the elements one by one to the empty list\n",
        "\n",
        "print(carres)"
      ]
    }
  ],
  "metadata": {
    "colab": {
      "provenance": [],
      "include_colab_link": true
    },
    "kernelspec": {
      "display_name": "imports_TM",
      "language": "python",
      "name": "python3"
    },
    "language_info": {
      "name": "python",
      "version": "3.9.18"
    }
  },
  "nbformat": 4,
  "nbformat_minor": 0
}