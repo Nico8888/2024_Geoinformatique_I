{
  "cells": [
    {
      "cell_type": "markdown",
      "metadata": {
        "id": "view-in-github",
        "colab_type": "text"
      },
      "source": [
        "<a href=\"https://colab.research.google.com/github/Nico8888/2024_Geoinformatique_I/blob/main/Geoinformatique_I/IP/Exercices_IP/S1_IP_exercice.ipynb\" target=\"_parent\"><img src=\"https://colab.research.google.com/assets/colab-badge.svg\" alt=\"Open In Colab\"/></a>"
      ]
    },
    {
      "cell_type": "markdown",
      "metadata": {
        "id": "a4H9Gb41nLo-"
      },
      "source": [
        "## Exercice 1 - Introduction aux bases de la programmation"
      ]
    },
    {
      "cell_type": "markdown",
      "metadata": {
        "id": "G79m62HcnLo_"
      },
      "source": [
        "### Premier code de Python :\n",
        "\n",
        "Utiliser la fonction \"print()\" pour afficher le texte \"Hello world\"."
      ]
    },
    {
      "cell_type": "code",
      "source": [
        "var1,var2 = \"hello\", \"world\"\n",
        "print(var1,var2)\n"
      ],
      "metadata": {
        "id": "nalom8VSfR90",
        "outputId": "0d5c2c00-3525-4ff9-ce99-a612ecd36238",
        "colab": {
          "base_uri": "https://localhost:8080/"
        }
      },
      "execution_count": 1,
      "outputs": [
        {
          "output_type": "stream",
          "name": "stdout",
          "text": [
            "hello world\n"
          ]
        }
      ]
    },
    {
      "cell_type": "code",
      "source": [
        "text1,text2 =\"hello\", \"world\"\n",
        "print(text1,text2)\n"
      ],
      "metadata": {
        "id": "53MTV6qKV0aG",
        "outputId": "c0b95bfe-f1e7-4de5-8478-eff33a4b5156",
        "colab": {
          "base_uri": "https://localhost:8080/"
        }
      },
      "execution_count": 2,
      "outputs": [
        {
          "output_type": "stream",
          "name": "stdout",
          "text": [
            "hello world\n"
          ]
        }
      ]
    },
    {
      "cell_type": "code",
      "execution_count": null,
      "metadata": {
        "id": "6acDX_-_nLpC"
      },
      "outputs": [],
      "source": [
        "# Premier script : \"Hello world\"\n",
        "print(\"_____\")"
      ]
    },
    {
      "cell_type": "markdown",
      "metadata": {
        "id": "u8mSrLqxnLpE"
      },
      "source": [
        "### Variables et types de données :\n"
      ]
    },
    {
      "cell_type": "code",
      "source": [
        "x = 5\n",
        "y = 2.2\n",
        "z = \"unil\"\n",
        "print(x,y,z)\n"
      ],
      "metadata": {
        "id": "gzrc1bZyfkCu",
        "outputId": "2391009a-8d8a-42ef-e126-384fc60cda0f",
        "colab": {
          "base_uri": "https://localhost:8080/"
        }
      },
      "execution_count": 3,
      "outputs": [
        {
          "output_type": "stream",
          "name": "stdout",
          "text": [
            "5 2.2 unil\n"
          ]
        }
      ]
    },
    {
      "cell_type": "code",
      "execution_count": null,
      "metadata": {
        "id": "QBu-r7EFnLpF"
      },
      "outputs": [],
      "source": [
        "# Initialiser des données\n",
        "\n",
        "x = ____    # Remplacer par une valeur entière (integer)\n",
        "y = ____    # Remplacer par une valeur décimale (float)\n",
        "z = \"____\"  # Remplacer par une chaîne de caractères. Par exemple \"Python\""
      ]
    },
    {
      "cell_type": "markdown",
      "metadata": {
        "id": "PJc99DALnLpG"
      },
      "source": [
        "Maintenant vérifions le type de ces variables à l'aide de la fonction \"type()\""
      ]
    },
    {
      "cell_type": "code",
      "source": [
        "print(type(x))\n",
        "print(type(y))\n",
        "print(type(z))\n"
      ],
      "metadata": {
        "id": "_EDRZnZrfwbH",
        "outputId": "c2c1f098-abb8-4d6c-97a2-e8a7d7ba839c",
        "colab": {
          "base_uri": "https://localhost:8080/"
        }
      },
      "execution_count": 4,
      "outputs": [
        {
          "output_type": "stream",
          "name": "stdout",
          "text": [
            "<class 'int'>\n",
            "<class 'float'>\n",
            "<class 'str'>\n"
          ]
        }
      ]
    },
    {
      "cell_type": "code",
      "execution_count": null,
      "metadata": {
        "id": "WDrvtjv2nLpG"
      },
      "outputs": [],
      "source": [
        "# Comment vérifier le type ?\n",
        "print(type(__))  # Affiche le type de x\n",
        "print(type(__))  # Affiche le type de y\n",
        "print(type(__))  # Affiche le type de z"
      ]
    },
    {
      "cell_type": "markdown",
      "metadata": {
        "id": "T1V0f27onLpH"
      },
      "source": [
        "### Opérations arithmétiques :"
      ]
    },
    {
      "cell_type": "code",
      "source": [
        "a = 2\n",
        "b = 5\n",
        "print(a)\n",
        "print(b)\n"
      ],
      "metadata": {
        "id": "TgQxbwtcf8R5",
        "outputId": "d113b05f-1c7a-46fb-fcd9-ade71ffac56d",
        "colab": {
          "base_uri": "https://localhost:8080/"
        }
      },
      "execution_count": 5,
      "outputs": [
        {
          "output_type": "stream",
          "name": "stdout",
          "text": [
            "2\n",
            "5\n"
          ]
        }
      ]
    },
    {
      "cell_type": "code",
      "execution_count": null,
      "metadata": {
        "id": "iXXDA3-JnLpI"
      },
      "outputs": [],
      "source": [
        "a = ___  # Remplacer par une valeur entière\n",
        "b = ___  # Remplacer par une valeur entière"
      ]
    },
    {
      "cell_type": "code",
      "source": [
        "addition = a + b\n",
        "soustraction = a-b\n",
        "soustraction2 = b-a\n",
        "multiplication = a * b\n",
        "division = a / b\n",
        "division2 = b / a\n",
        "print(addition)\n",
        "print(soustraction)\n",
        "print(soustraction2)\n",
        "print(division)\n",
        "print(multiplication)\n",
        "print(division2)"
      ],
      "metadata": {
        "id": "Oqw6px6YgJxY",
        "outputId": "569abab5-054a-4c12-daff-c74116fea36a",
        "colab": {
          "base_uri": "https://localhost:8080/"
        }
      },
      "execution_count": 6,
      "outputs": [
        {
          "output_type": "stream",
          "name": "stdout",
          "text": [
            "7\n",
            "-3\n",
            "3\n",
            "0.4\n",
            "10\n",
            "2.5\n"
          ]
        }
      ]
    },
    {
      "cell_type": "code",
      "execution_count": null,
      "metadata": {
        "id": "Is2kTg-7nLpI"
      },
      "outputs": [],
      "source": [
        "# Opérations arithmétiques\n",
        "addition = a + b  # Calcul de l'addition\n",
        "soustraction = ____  # Calcul de la soustraction entre a et b\n",
        "multiplication = ____  # Calcul de la multiplication entre a et b\n",
        "division = ____  # Calcul de la division de a par b"
      ]
    },
    {
      "cell_type": "code",
      "execution_count": null,
      "metadata": {
        "id": "n7_BQYBanLpJ"
      },
      "outputs": [],
      "source": [
        "# Afficher les résultats\n",
        "print(\"Addition:\", ______)\n",
        "print(\"Soustraction:\", ______)\n",
        "print(\"Multiplication:\", ______)\n",
        "print(\"Division:\", ______)\n"
      ]
    },
    {
      "cell_type": "markdown",
      "metadata": {
        "id": "VXsb00dpnLpJ"
      },
      "source": [
        "### Calcul d'émissions de CO2 :"
      ]
    },
    {
      "cell_type": "code",
      "source": [
        "distance = 100\n",
        "conso_essence = 2\n",
        "a = \"les émission de CO2 pour\"\n",
        "b = \"km parcouru sont de\"\n",
        "c = \"grammes\"\n",
        "multiplication = ((100*2)*2.3)\n",
        "print(multiplication)\n",
        "multiplication = ((distance*conso_essence)*2.3)\n",
        "print(multiplication)\n",
        "print(a,distance,b,multiplication,c)\n",
        "\n",
        "\n"
      ],
      "metadata": {
        "id": "62i1n4vsgt9J",
        "outputId": "b235988b-e9cb-423a-866b-435eb5ce6549",
        "colab": {
          "base_uri": "https://localhost:8080/"
        }
      },
      "execution_count": 11,
      "outputs": [
        {
          "output_type": "stream",
          "name": "stdout",
          "text": [
            "459.99999999999994\n",
            "459.99999999999994\n",
            "les émission de CO2 pour 100 km parcouru sont de 459.99999999999994 grammes\n"
          ]
        }
      ]
    },
    {
      "cell_type": "code",
      "execution_count": null,
      "metadata": {
        "id": "o-v8FPXOnLpJ"
      },
      "outputs": [],
      "source": [
        "# Données\n",
        "distance_km = ____  # Distance parcourue en kilomètres\n",
        "consommation_essence_litres_km = ____  # Consommation d'essence en litres par km"
      ]
    },
    {
      "cell_type": "code",
      "execution_count": null,
      "metadata": {
        "id": "WvCqQV44nLpK"
      },
      "outputs": [],
      "source": [
        "# Calcul des émissions de CO2 en kilogrammes\n",
        "# Le facteur 2,3 est une estimation générale de la quantité de dioxyde de carbone (CO2) émise en kilogrammes par litre de carburant brûlé.\n",
        "# Il est utilisé pour convertir la consommation d'essence en émissions de CO2.\n",
        "emissions_CO2_kg = (______ * _____) * 2.3"
      ]
    },
    {
      "cell_type": "code",
      "execution_count": null,
      "metadata": {
        "id": "bGnGt39ynLpK"
      },
      "outputs": [],
      "source": [
        "# Afficher le résultat\n",
        "print(\"Les émissions de CO2 pour\", _____, \"km parcourus sont de\", _______, \"grammes.\")"
      ]
    },
    {
      "cell_type": "markdown",
      "metadata": {
        "id": "q-bZszADnLpK"
      },
      "source": [
        "### Calcul de la consommation d'énergie"
      ]
    },
    {
      "cell_type": "code",
      "source": [
        "puissance = 200\n",
        "temps = 5\n",
        "conso = ((200*5)/100)\n",
        "a = \"la consommation d'énergie quotidienne de l'appareil est de \"\n",
        "b = \"kwh\"\n",
        "print(conso)\n",
        "print(a,conso,b)"
      ],
      "metadata": {
        "id": "NKZ-sfZes83l",
        "outputId": "f6423cb5-870b-4abd-82f4-1fa472e9de09",
        "colab": {
          "base_uri": "https://localhost:8080/"
        }
      },
      "execution_count": 14,
      "outputs": [
        {
          "output_type": "stream",
          "name": "stdout",
          "text": [
            "10.0\n",
            "la consommation d'énergie quotidienne de l'appareil est de  10.0 kwh\n"
          ]
        }
      ]
    },
    {
      "cell_type": "code",
      "execution_count": null,
      "metadata": {
        "id": "XtXC6cGUnLpK"
      },
      "outputs": [],
      "source": [
        "# Données\n",
        "puissance_appareil = ______  # Puissance de l'appareil en watts\n",
        "temps_utilisation_heures = ___  # Temps d'utilisation en heures par jour"
      ]
    },
    {
      "cell_type": "code",
      "execution_count": null,
      "metadata": {
        "id": "_V2F75BWnLpL"
      },
      "outputs": [],
      "source": [
        "# Calcul de la consommation d'énergie quotidienne en kilowatt-heures (kWh)\n",
        "# La division par 1000 est nécessaire pour convertir la puissance de l'appareil (exprimée en watts) en kilowatts,\n",
        "# car 1 kilowatt équivaut à 1000 watts.\n",
        "consommation_quotidienne_kWh = (_______ * ______) / 1000"
      ]
    },
    {
      "cell_type": "code",
      "execution_count": null,
      "metadata": {
        "id": "gbXyVo-ZnLpL"
      },
      "outputs": [],
      "source": [
        "# Afficher le résultat\n",
        "print(\"La consommation d'énergie quotidienne de l'appareil est de\", ______, \"kWh.\")"
      ]
    }
  ],
  "metadata": {
    "colab": {
      "provenance": [],
      "include_colab_link": true
    },
    "language_info": {
      "name": "python"
    },
    "kernelspec": {
      "name": "python3",
      "display_name": "Python 3"
    }
  },
  "nbformat": 4,
  "nbformat_minor": 0
}